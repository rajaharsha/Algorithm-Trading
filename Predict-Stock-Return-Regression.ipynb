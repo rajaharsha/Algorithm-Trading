{
 "cells": [
  {
   "cell_type": "markdown",
   "metadata": {},
   "source": [
    "### Exercise 3: For this exercise you will use financial data from Yahoo web site. \n",
    "\n",
    "<ul>\n",
    "<li>Get the Data: Go to Yahoo! Finance and download daily data from a stock that has at least eight years of data, making sure it goes from earlier to later. \n",
    "<li> Create the time series of daily log returns of the stock price. Do the same for volume data (i.e., create the time series of daily log changes in volume).\n",
    "<li> Next, set up a linear regression model that uses the past two returns to predict the next return. Run it and see if you can make any money with it. Try it for both stock returns and volumes. \n",
    "</ul>"
   ]
  },
  {
   "cell_type": "code",
   "execution_count": 89,
   "metadata": {},
   "outputs": [],
   "source": [
    "import pandas as pd\n",
    "import numpy as np\n",
    "\n",
    "%matplotlib inline\n",
    "import matplotlib.pyplot as plt\n",
    "import seaborn as sns\n",
    "\n",
    "import warnings\n",
    "warnings.filterwarnings('ignore')\n",
    "\n",
    "from sklearn.linear_model import LinearRegression\n",
    "from sklearn.model_selection import train_test_split\n",
    "from sklearn.metrics import mean_squared_error"
   ]
  },
  {
   "cell_type": "markdown",
   "metadata": {},
   "source": [
    "### Read stock data from .csv file"
   ]
  },
  {
   "cell_type": "code",
   "execution_count": 17,
   "metadata": {},
   "outputs": [
    {
     "data": {
      "text/html": [
       "<div>\n",
       "<style scoped>\n",
       "    .dataframe tbody tr th:only-of-type {\n",
       "        vertical-align: middle;\n",
       "    }\n",
       "\n",
       "    .dataframe tbody tr th {\n",
       "        vertical-align: top;\n",
       "    }\n",
       "\n",
       "    .dataframe thead th {\n",
       "        text-align: right;\n",
       "    }\n",
       "</style>\n",
       "<table border=\"1\" class=\"dataframe\">\n",
       "  <thead>\n",
       "    <tr style=\"text-align: right;\">\n",
       "      <th></th>\n",
       "      <th>Date</th>\n",
       "      <th>Open</th>\n",
       "      <th>High</th>\n",
       "      <th>Low</th>\n",
       "      <th>Close</th>\n",
       "      <th>Adj Close</th>\n",
       "      <th>Volume</th>\n",
       "    </tr>\n",
       "  </thead>\n",
       "  <tbody>\n",
       "    <tr>\n",
       "      <th>0</th>\n",
       "      <td>2010-01-04</td>\n",
       "      <td>1116.560059</td>\n",
       "      <td>1133.869995</td>\n",
       "      <td>1116.560059</td>\n",
       "      <td>1132.989990</td>\n",
       "      <td>1132.989990</td>\n",
       "      <td>3991400000</td>\n",
       "    </tr>\n",
       "    <tr>\n",
       "      <th>1</th>\n",
       "      <td>2010-01-05</td>\n",
       "      <td>1132.660034</td>\n",
       "      <td>1136.630005</td>\n",
       "      <td>1129.660034</td>\n",
       "      <td>1136.520020</td>\n",
       "      <td>1136.520020</td>\n",
       "      <td>2491020000</td>\n",
       "    </tr>\n",
       "    <tr>\n",
       "      <th>2</th>\n",
       "      <td>2010-01-06</td>\n",
       "      <td>1135.709961</td>\n",
       "      <td>1139.189941</td>\n",
       "      <td>1133.949951</td>\n",
       "      <td>1137.140015</td>\n",
       "      <td>1137.140015</td>\n",
       "      <td>4972660000</td>\n",
       "    </tr>\n",
       "    <tr>\n",
       "      <th>3</th>\n",
       "      <td>2010-01-07</td>\n",
       "      <td>1136.270020</td>\n",
       "      <td>1142.459961</td>\n",
       "      <td>1131.319946</td>\n",
       "      <td>1141.689941</td>\n",
       "      <td>1141.689941</td>\n",
       "      <td>5270680000</td>\n",
       "    </tr>\n",
       "    <tr>\n",
       "      <th>4</th>\n",
       "      <td>2010-01-08</td>\n",
       "      <td>1140.520020</td>\n",
       "      <td>1145.390015</td>\n",
       "      <td>1136.219971</td>\n",
       "      <td>1144.979980</td>\n",
       "      <td>1144.979980</td>\n",
       "      <td>4389590000</td>\n",
       "    </tr>\n",
       "  </tbody>\n",
       "</table>\n",
       "</div>"
      ],
      "text/plain": [
       "         Date         Open         High          Low        Close  \\\n",
       "0  2010-01-04  1116.560059  1133.869995  1116.560059  1132.989990   \n",
       "1  2010-01-05  1132.660034  1136.630005  1129.660034  1136.520020   \n",
       "2  2010-01-06  1135.709961  1139.189941  1133.949951  1137.140015   \n",
       "3  2010-01-07  1136.270020  1142.459961  1131.319946  1141.689941   \n",
       "4  2010-01-08  1140.520020  1145.390015  1136.219971  1144.979980   \n",
       "\n",
       "     Adj Close      Volume  \n",
       "0  1132.989990  3991400000  \n",
       "1  1136.520020  2491020000  \n",
       "2  1137.140015  4972660000  \n",
       "3  1141.689941  5270680000  \n",
       "4  1144.979980  4389590000  "
      ]
     },
     "execution_count": 17,
     "metadata": {},
     "output_type": "execute_result"
    }
   ],
   "source": [
    "# read stock values from .csv file\n",
    "df_stocks = pd.read_csv(\"GSPC.csv\")\n",
    "df_stocks.head()"
   ]
  },
  {
   "cell_type": "code",
   "execution_count": 29,
   "metadata": {},
   "outputs": [
    {
     "data": {
      "text/html": [
       "<div>\n",
       "<style scoped>\n",
       "    .dataframe tbody tr th:only-of-type {\n",
       "        vertical-align: middle;\n",
       "    }\n",
       "\n",
       "    .dataframe tbody tr th {\n",
       "        vertical-align: top;\n",
       "    }\n",
       "\n",
       "    .dataframe thead th {\n",
       "        text-align: right;\n",
       "    }\n",
       "</style>\n",
       "<table border=\"1\" class=\"dataframe\">\n",
       "  <thead>\n",
       "    <tr style=\"text-align: right;\">\n",
       "      <th></th>\n",
       "      <th>Date</th>\n",
       "      <th>Adj Close</th>\n",
       "      <th>Volume</th>\n",
       "    </tr>\n",
       "    <tr>\n",
       "      <th>Date</th>\n",
       "      <th></th>\n",
       "      <th></th>\n",
       "      <th></th>\n",
       "    </tr>\n",
       "  </thead>\n",
       "  <tbody>\n",
       "    <tr>\n",
       "      <th>2010-01-04</th>\n",
       "      <td>2010-01-04</td>\n",
       "      <td>1132.989990</td>\n",
       "      <td>3991400000</td>\n",
       "    </tr>\n",
       "    <tr>\n",
       "      <th>2010-01-05</th>\n",
       "      <td>2010-01-05</td>\n",
       "      <td>1136.520020</td>\n",
       "      <td>2491020000</td>\n",
       "    </tr>\n",
       "    <tr>\n",
       "      <th>2010-01-06</th>\n",
       "      <td>2010-01-06</td>\n",
       "      <td>1137.140015</td>\n",
       "      <td>4972660000</td>\n",
       "    </tr>\n",
       "    <tr>\n",
       "      <th>2010-01-07</th>\n",
       "      <td>2010-01-07</td>\n",
       "      <td>1141.689941</td>\n",
       "      <td>5270680000</td>\n",
       "    </tr>\n",
       "    <tr>\n",
       "      <th>2010-01-08</th>\n",
       "      <td>2010-01-08</td>\n",
       "      <td>1144.979980</td>\n",
       "      <td>4389590000</td>\n",
       "    </tr>\n",
       "  </tbody>\n",
       "</table>\n",
       "</div>"
      ],
      "text/plain": [
       "                  Date    Adj Close      Volume\n",
       "Date                                           \n",
       "2010-01-04  2010-01-04  1132.989990  3991400000\n",
       "2010-01-05  2010-01-05  1136.520020  2491020000\n",
       "2010-01-06  2010-01-06  1137.140015  4972660000\n",
       "2010-01-07  2010-01-07  1141.689941  5270680000\n",
       "2010-01-08  2010-01-08  1144.979980  4389590000"
      ]
     },
     "execution_count": 29,
     "metadata": {},
     "output_type": "execute_result"
    }
   ],
   "source": [
    "df_stocks = df_stocks[['Date', 'Adj Close', 'Volume']]\n",
    "df_stocks.head()"
   ]
  },
  {
   "cell_type": "markdown",
   "metadata": {},
   "source": [
    "### Calculate Log Change in Stock's Return and Volume"
   ]
  },
  {
   "cell_type": "code",
   "execution_count": 30,
   "metadata": {},
   "outputs": [
    {
     "data": {
      "text/html": [
       "<div>\n",
       "<style scoped>\n",
       "    .dataframe tbody tr th:only-of-type {\n",
       "        vertical-align: middle;\n",
       "    }\n",
       "\n",
       "    .dataframe tbody tr th {\n",
       "        vertical-align: top;\n",
       "    }\n",
       "\n",
       "    .dataframe thead th {\n",
       "        text-align: right;\n",
       "    }\n",
       "</style>\n",
       "<table border=\"1\" class=\"dataframe\">\n",
       "  <thead>\n",
       "    <tr style=\"text-align: right;\">\n",
       "      <th></th>\n",
       "      <th>Date</th>\n",
       "      <th>Adj Close</th>\n",
       "      <th>Volume</th>\n",
       "      <th>Return-Log-Change</th>\n",
       "      <th>Volume-Log-Change</th>\n",
       "    </tr>\n",
       "    <tr>\n",
       "      <th>Date</th>\n",
       "      <th></th>\n",
       "      <th></th>\n",
       "      <th></th>\n",
       "      <th></th>\n",
       "      <th></th>\n",
       "    </tr>\n",
       "  </thead>\n",
       "  <tbody>\n",
       "    <tr>\n",
       "      <th>2010-01-04</th>\n",
       "      <td>2010-01-04</td>\n",
       "      <td>1132.989990</td>\n",
       "      <td>3991400000</td>\n",
       "      <td>NaN</td>\n",
       "      <td>NaN</td>\n",
       "    </tr>\n",
       "    <tr>\n",
       "      <th>2010-01-05</th>\n",
       "      <td>2010-01-05</td>\n",
       "      <td>1136.520020</td>\n",
       "      <td>2491020000</td>\n",
       "      <td>0.003111</td>\n",
       "      <td>-0.471450</td>\n",
       "    </tr>\n",
       "    <tr>\n",
       "      <th>2010-01-06</th>\n",
       "      <td>2010-01-06</td>\n",
       "      <td>1137.140015</td>\n",
       "      <td>4972660000</td>\n",
       "      <td>0.000545</td>\n",
       "      <td>0.691263</td>\n",
       "    </tr>\n",
       "    <tr>\n",
       "      <th>2010-01-07</th>\n",
       "      <td>2010-01-07</td>\n",
       "      <td>1141.689941</td>\n",
       "      <td>5270680000</td>\n",
       "      <td>0.003993</td>\n",
       "      <td>0.058204</td>\n",
       "    </tr>\n",
       "    <tr>\n",
       "      <th>2010-01-08</th>\n",
       "      <td>2010-01-08</td>\n",
       "      <td>1144.979980</td>\n",
       "      <td>4389590000</td>\n",
       "      <td>0.002878</td>\n",
       "      <td>-0.182924</td>\n",
       "    </tr>\n",
       "  </tbody>\n",
       "</table>\n",
       "</div>"
      ],
      "text/plain": [
       "                  Date    Adj Close      Volume  Return-Log-Change  \\\n",
       "Date                                                                 \n",
       "2010-01-04  2010-01-04  1132.989990  3991400000                NaN   \n",
       "2010-01-05  2010-01-05  1136.520020  2491020000           0.003111   \n",
       "2010-01-06  2010-01-06  1137.140015  4972660000           0.000545   \n",
       "2010-01-07  2010-01-07  1141.689941  5270680000           0.003993   \n",
       "2010-01-08  2010-01-08  1144.979980  4389590000           0.002878   \n",
       "\n",
       "            Volume-Log-Change  \n",
       "Date                           \n",
       "2010-01-04                NaN  \n",
       "2010-01-05          -0.471450  \n",
       "2010-01-06           0.691263  \n",
       "2010-01-07           0.058204  \n",
       "2010-01-08          -0.182924  "
      ]
     },
     "execution_count": 30,
     "metadata": {},
     "output_type": "execute_result"
    }
   ],
   "source": [
    "#df_stocks['Return-Pct-Change'] = df_stocks['Adj Close'].pct_change()\n",
    "df_stocks['Return-Log-Change'] = np.log(1 + df_stocks['Adj Close'].pct_change())\n",
    "\n",
    "#df_stocks['Volume-Pct-Change'] = df_stocks['Volume'].pct_change()\n",
    "df_stocks['Volume-Log-Change'] = np.log(1 + df_stocks['Volume'].pct_change())\n",
    "\n",
    "df_stocks = df_stocks.set_index(df_stocks['Date'])\n",
    "\n",
    "df_stocks.head()"
   ]
  },
  {
   "cell_type": "markdown",
   "metadata": {},
   "source": [
    "### Plot Log Changes in Stock Return"
   ]
  },
  {
   "cell_type": "code",
   "execution_count": 50,
   "metadata": {},
   "outputs": [
    {
     "data": {
      "text/plain": [
       "<matplotlib.axes._subplots.AxesSubplot at 0x23dab222f60>"
      ]
     },
     "execution_count": 50,
     "metadata": {},
     "output_type": "execute_result"
    },
    {
     "data": {
      "image/png": "[encoded data removed]",
      "text/plain": [
       "<matplotlib.figure.Figure at 0x23daf792240>"
      ]
     },
     "metadata": {},
     "output_type": "display_data"
    }
   ],
   "source": [
    "df_stocks['Return-Log-Change'].plot(figsize=(16,6), legend=True, linewidth=1, alpha=0.8)"
   ]
  },
  {
   "cell_type": "markdown",
   "metadata": {},
   "source": [
    "### Plot Log Changes in Stock Volume"
   ]
  },
  {
   "cell_type": "code",
   "execution_count": 51,
   "metadata": {},
   "outputs": [
    {
     "data": {
      "text/plain": [
       "<matplotlib.axes._subplots.AxesSubplot at 0x23dab287a90>"
      ]
     },
     "execution_count": 51,
     "metadata": {},
     "output_type": "execute_result"
    },
    {
     "data": {
      "image/png": "[encoded data removed]",
      "text/plain": [
       "<matplotlib.figure.Figure at 0x23daf3872b0>"
      ]
     },
     "metadata": {},
     "output_type": "display_data"
    }
   ],
   "source": [
    "df_stocks['Volume-Log-Change'].plot(figsize=(16,6), legend=True, linewidth=1, alpha=0.8, color='green')"
   ]
  },
  {
   "cell_type": "markdown",
   "metadata": {},
   "source": [
    "### Predict Return"
   ]
  },
  {
   "cell_type": "code",
   "execution_count": 63,
   "metadata": {},
   "outputs": [
    {
     "data": {
      "text/html": [
       "<div>\n",
       "<style scoped>\n",
       "    .dataframe tbody tr th:only-of-type {\n",
       "        vertical-align: middle;\n",
       "    }\n",
       "\n",
       "    .dataframe tbody tr th {\n",
       "        vertical-align: top;\n",
       "    }\n",
       "\n",
       "    .dataframe thead th {\n",
       "        text-align: right;\n",
       "    }\n",
       "</style>\n",
       "<table border=\"1\" class=\"dataframe\">\n",
       "  <thead>\n",
       "    <tr style=\"text-align: right;\">\n",
       "      <th></th>\n",
       "      <th>Return-Log-Change</th>\n",
       "    </tr>\n",
       "    <tr>\n",
       "      <th>Date</th>\n",
       "      <th></th>\n",
       "    </tr>\n",
       "  </thead>\n",
       "  <tbody>\n",
       "    <tr>\n",
       "      <th>2010-01-04</th>\n",
       "      <td>NaN</td>\n",
       "    </tr>\n",
       "    <tr>\n",
       "      <th>2010-01-05</th>\n",
       "      <td>0.003111</td>\n",
       "    </tr>\n",
       "    <tr>\n",
       "      <th>2010-01-06</th>\n",
       "      <td>0.000545</td>\n",
       "    </tr>\n",
       "    <tr>\n",
       "      <th>2010-01-07</th>\n",
       "      <td>0.003993</td>\n",
       "    </tr>\n",
       "    <tr>\n",
       "      <th>2010-01-08</th>\n",
       "      <td>0.002878</td>\n",
       "    </tr>\n",
       "  </tbody>\n",
       "</table>\n",
       "</div>"
      ],
      "text/plain": [
       "            Return-Log-Change\n",
       "Date                         \n",
       "2010-01-04                NaN\n",
       "2010-01-05           0.003111\n",
       "2010-01-06           0.000545\n",
       "2010-01-07           0.003993\n",
       "2010-01-08           0.002878"
      ]
     },
     "execution_count": 63,
     "metadata": {},
     "output_type": "execute_result"
    }
   ],
   "source": [
    "df_stocks_returns = df_stocks[['Return-Log-Change']]\n",
    "df_stocks_returns.head()"
   ]
  },
  {
   "cell_type": "code",
   "execution_count": 80,
   "metadata": {},
   "outputs": [
    {
     "data": {
      "text/html": [
       "<div>\n",
       "<style scoped>\n",
       "    .dataframe tbody tr th:only-of-type {\n",
       "        vertical-align: middle;\n",
       "    }\n",
       "\n",
       "    .dataframe tbody tr th {\n",
       "        vertical-align: top;\n",
       "    }\n",
       "\n",
       "    .dataframe thead th {\n",
       "        text-align: right;\n",
       "    }\n",
       "</style>\n",
       "<table border=\"1\" class=\"dataframe\">\n",
       "  <thead>\n",
       "    <tr style=\"text-align: right;\">\n",
       "      <th></th>\n",
       "      <th>Return-Log-Change</th>\n",
       "      <th>Log-Return:(t-1)</th>\n",
       "      <th>Log-Return:(t-2)</th>\n",
       "    </tr>\n",
       "    <tr>\n",
       "      <th>Date</th>\n",
       "      <th></th>\n",
       "      <th></th>\n",
       "      <th></th>\n",
       "    </tr>\n",
       "  </thead>\n",
       "  <tbody>\n",
       "    <tr>\n",
       "      <th>2010-01-04</th>\n",
       "      <td>0.000000</td>\n",
       "      <td>0.000000</td>\n",
       "      <td>0.000000</td>\n",
       "    </tr>\n",
       "    <tr>\n",
       "      <th>2010-01-05</th>\n",
       "      <td>0.003111</td>\n",
       "      <td>0.000000</td>\n",
       "      <td>0.000000</td>\n",
       "    </tr>\n",
       "    <tr>\n",
       "      <th>2010-01-06</th>\n",
       "      <td>0.000545</td>\n",
       "      <td>0.003111</td>\n",
       "      <td>0.000000</td>\n",
       "    </tr>\n",
       "    <tr>\n",
       "      <th>2010-01-07</th>\n",
       "      <td>0.003993</td>\n",
       "      <td>0.000545</td>\n",
       "      <td>0.003111</td>\n",
       "    </tr>\n",
       "    <tr>\n",
       "      <th>2010-01-08</th>\n",
       "      <td>0.002878</td>\n",
       "      <td>0.003993</td>\n",
       "      <td>0.000545</td>\n",
       "    </tr>\n",
       "    <tr>\n",
       "      <th>2010-01-11</th>\n",
       "      <td>0.001745</td>\n",
       "      <td>0.002878</td>\n",
       "      <td>0.003993</td>\n",
       "    </tr>\n",
       "    <tr>\n",
       "      <th>2010-01-12</th>\n",
       "      <td>-0.009425</td>\n",
       "      <td>0.001745</td>\n",
       "      <td>0.002878</td>\n",
       "    </tr>\n",
       "    <tr>\n",
       "      <th>2010-01-13</th>\n",
       "      <td>0.008291</td>\n",
       "      <td>-0.009425</td>\n",
       "      <td>0.001745</td>\n",
       "    </tr>\n",
       "    <tr>\n",
       "      <th>2010-01-14</th>\n",
       "      <td>0.002423</td>\n",
       "      <td>0.008291</td>\n",
       "      <td>-0.009425</td>\n",
       "    </tr>\n",
       "    <tr>\n",
       "      <th>2010-01-15</th>\n",
       "      <td>-0.010882</td>\n",
       "      <td>0.002423</td>\n",
       "      <td>0.008291</td>\n",
       "    </tr>\n",
       "  </tbody>\n",
       "</table>\n",
       "</div>"
      ],
      "text/plain": [
       "            Return-Log-Change  Log-Return:(t-1)  Log-Return:(t-2)\n",
       "Date                                                             \n",
       "2010-01-04           0.000000          0.000000          0.000000\n",
       "2010-01-05           0.003111          0.000000          0.000000\n",
       "2010-01-06           0.000545          0.003111          0.000000\n",
       "2010-01-07           0.003993          0.000545          0.003111\n",
       "2010-01-08           0.002878          0.003993          0.000545\n",
       "2010-01-11           0.001745          0.002878          0.003993\n",
       "2010-01-12          -0.009425          0.001745          0.002878\n",
       "2010-01-13           0.008291         -0.009425          0.001745\n",
       "2010-01-14           0.002423          0.008291         -0.009425\n",
       "2010-01-15          -0.010882          0.002423          0.008291"
      ]
     },
     "execution_count": 80,
     "metadata": {},
     "output_type": "execute_result"
    }
   ],
   "source": [
    "df_stocks_returns['Log-Return:(t-1)'] = df_stocks_returns['Return-Log-Change'].shift(1)\n",
    "df_stocks_returns['Log-Return:(t-2)'] = df_stocks_returns['Return-Log-Change'].shift(2)\n",
    "df_stocks_returns = df_stocks_returns.fillna(0)\n",
    "df_stocks_returns.head(10)"
   ]
  },
  {
   "cell_type": "code",
   "execution_count": 81,
   "metadata": {
    "collapsed": true
   },
   "outputs": [],
   "source": [
    "X = df_stocks_returns[['Log-Return:(t-1)', 'Log-Return:(t-2)']]\n",
    "y = df_stocks_returns[['Return-Log-Change']]"
   ]
  },
  {
   "cell_type": "code",
   "execution_count": 83,
   "metadata": {},
   "outputs": [
    {
     "name": "stdout",
     "output_type": "stream",
     "text": [
      "Mean Squared Error - Test: 9.20080390429e-05\n"
     ]
    }
   ],
   "source": [
    "model = LinearRegression(fit_intercept=True)\n",
    "\n",
    "# divide the dataset created with 2 variables into training & test samples\n",
    "X_train, X_test, y_train, y_test = train_test_split(X, y, test_size=0.8, random_state=35)\n",
    "\n",
    "# use X_train, y_train to train the model and X_test to predict values\n",
    "model.fit(X_train, y_train)\n",
    "\n",
    "# predict y_test values from model created \n",
    "y_test_predicted = model.predict(X_test)\n",
    "\n",
    "# calculate mean square error for test dataset\n",
    "mse_test_1 = mean_squared_error(y_test, y_test_predicted)\n",
    "print ('Mean Squared Error - Test:', mse_test_1)"
   ]
  },
  {
   "cell_type": "markdown",
   "metadata": {},
   "source": [
    "### Predict Volume Change"
   ]
  },
  {
   "cell_type": "code",
   "execution_count": 84,
   "metadata": {},
   "outputs": [
    {
     "data": {
      "text/html": [
       "<div>\n",
       "<style scoped>\n",
       "    .dataframe tbody tr th:only-of-type {\n",
       "        vertical-align: middle;\n",
       "    }\n",
       "\n",
       "    .dataframe tbody tr th {\n",
       "        vertical-align: top;\n",
       "    }\n",
       "\n",
       "    .dataframe thead th {\n",
       "        text-align: right;\n",
       "    }\n",
       "</style>\n",
       "<table border=\"1\" class=\"dataframe\">\n",
       "  <thead>\n",
       "    <tr style=\"text-align: right;\">\n",
       "      <th></th>\n",
       "      <th>Volume-Log-Change</th>\n",
       "    </tr>\n",
       "    <tr>\n",
       "      <th>Date</th>\n",
       "      <th></th>\n",
       "    </tr>\n",
       "  </thead>\n",
       "  <tbody>\n",
       "    <tr>\n",
       "      <th>2010-01-04</th>\n",
       "      <td>NaN</td>\n",
       "    </tr>\n",
       "    <tr>\n",
       "      <th>2010-01-05</th>\n",
       "      <td>-0.471450</td>\n",
       "    </tr>\n",
       "    <tr>\n",
       "      <th>2010-01-06</th>\n",
       "      <td>0.691263</td>\n",
       "    </tr>\n",
       "    <tr>\n",
       "      <th>2010-01-07</th>\n",
       "      <td>0.058204</td>\n",
       "    </tr>\n",
       "    <tr>\n",
       "      <th>2010-01-08</th>\n",
       "      <td>-0.182924</td>\n",
       "    </tr>\n",
       "  </tbody>\n",
       "</table>\n",
       "</div>"
      ],
      "text/plain": [
       "            Volume-Log-Change\n",
       "Date                         \n",
       "2010-01-04                NaN\n",
       "2010-01-05          -0.471450\n",
       "2010-01-06           0.691263\n",
       "2010-01-07           0.058204\n",
       "2010-01-08          -0.182924"
      ]
     },
     "execution_count": 84,
     "metadata": {},
     "output_type": "execute_result"
    }
   ],
   "source": [
    "df_stocks_volume = df_stocks[['Volume-Log-Change']]\n",
    "df_stocks_volume.head()"
   ]
  },
  {
   "cell_type": "code",
   "execution_count": 85,
   "metadata": {},
   "outputs": [
    {
     "data": {
      "text/html": [
       "<div>\n",
       "<style scoped>\n",
       "    .dataframe tbody tr th:only-of-type {\n",
       "        vertical-align: middle;\n",
       "    }\n",
       "\n",
       "    .dataframe tbody tr th {\n",
       "        vertical-align: top;\n",
       "    }\n",
       "\n",
       "    .dataframe thead th {\n",
       "        text-align: right;\n",
       "    }\n",
       "</style>\n",
       "<table border=\"1\" class=\"dataframe\">\n",
       "  <thead>\n",
       "    <tr style=\"text-align: right;\">\n",
       "      <th></th>\n",
       "      <th>Volume-Log-Change</th>\n",
       "      <th>Log-Volume-Change:(t-1)</th>\n",
       "      <th>Log-Volume-Change:(t-2)</th>\n",
       "    </tr>\n",
       "    <tr>\n",
       "      <th>Date</th>\n",
       "      <th></th>\n",
       "      <th></th>\n",
       "      <th></th>\n",
       "    </tr>\n",
       "  </thead>\n",
       "  <tbody>\n",
       "    <tr>\n",
       "      <th>2010-01-04</th>\n",
       "      <td>0.000000</td>\n",
       "      <td>0.000000</td>\n",
       "      <td>0.000000</td>\n",
       "    </tr>\n",
       "    <tr>\n",
       "      <th>2010-01-05</th>\n",
       "      <td>-0.471450</td>\n",
       "      <td>0.000000</td>\n",
       "      <td>0.000000</td>\n",
       "    </tr>\n",
       "    <tr>\n",
       "      <th>2010-01-06</th>\n",
       "      <td>0.691263</td>\n",
       "      <td>-0.471450</td>\n",
       "      <td>0.000000</td>\n",
       "    </tr>\n",
       "    <tr>\n",
       "      <th>2010-01-07</th>\n",
       "      <td>0.058204</td>\n",
       "      <td>0.691263</td>\n",
       "      <td>-0.471450</td>\n",
       "    </tr>\n",
       "    <tr>\n",
       "      <th>2010-01-08</th>\n",
       "      <td>-0.182924</td>\n",
       "      <td>0.058204</td>\n",
       "      <td>0.691263</td>\n",
       "    </tr>\n",
       "    <tr>\n",
       "      <th>2010-01-11</th>\n",
       "      <td>-0.030958</td>\n",
       "      <td>-0.182924</td>\n",
       "      <td>0.058204</td>\n",
       "    </tr>\n",
       "    <tr>\n",
       "      <th>2010-01-12</th>\n",
       "      <td>0.102717</td>\n",
       "      <td>-0.030958</td>\n",
       "      <td>-0.182924</td>\n",
       "    </tr>\n",
       "    <tr>\n",
       "      <th>2010-01-13</th>\n",
       "      <td>-0.122993</td>\n",
       "      <td>0.102717</td>\n",
       "      <td>-0.030958</td>\n",
       "    </tr>\n",
       "    <tr>\n",
       "      <th>2010-01-14</th>\n",
       "      <td>-0.063136</td>\n",
       "      <td>-0.122993</td>\n",
       "      <td>0.102717</td>\n",
       "    </tr>\n",
       "    <tr>\n",
       "      <th>2010-01-15</th>\n",
       "      <td>0.195114</td>\n",
       "      <td>-0.063136</td>\n",
       "      <td>-0.122993</td>\n",
       "    </tr>\n",
       "  </tbody>\n",
       "</table>\n",
       "</div>"
      ],
      "text/plain": [
       "            Volume-Log-Change  Log-Volume-Change:(t-1)  \\\n",
       "Date                                                     \n",
       "2010-01-04           0.000000                 0.000000   \n",
       "2010-01-05          -0.471450                 0.000000   \n",
       "2010-01-06           0.691263                -0.471450   \n",
       "2010-01-07           0.058204                 0.691263   \n",
       "2010-01-08          -0.182924                 0.058204   \n",
       "2010-01-11          -0.030958                -0.182924   \n",
       "2010-01-12           0.102717                -0.030958   \n",
       "2010-01-13          -0.122993                 0.102717   \n",
       "2010-01-14          -0.063136                -0.122993   \n",
       "2010-01-15           0.195114                -0.063136   \n",
       "\n",
       "            Log-Volume-Change:(t-2)  \n",
       "Date                                 \n",
       "2010-01-04                 0.000000  \n",
       "2010-01-05                 0.000000  \n",
       "2010-01-06                 0.000000  \n",
       "2010-01-07                -0.471450  \n",
       "2010-01-08                 0.691263  \n",
       "2010-01-11                 0.058204  \n",
       "2010-01-12                -0.182924  \n",
       "2010-01-13                -0.030958  \n",
       "2010-01-14                 0.102717  \n",
       "2010-01-15                -0.122993  "
      ]
     },
     "execution_count": 85,
     "metadata": {},
     "output_type": "execute_result"
    }
   ],
   "source": [
    "df_stocks_volume['Log-Volume-Change:(t-1)'] = df_stocks_volume['Volume-Log-Change'].shift(1)\n",
    "df_stocks_volume['Log-Volume-Change:(t-2)'] = df_stocks_volume['Volume-Log-Change'].shift(2)\n",
    "df_stocks_volume = df_stocks_volume.fillna(0)\n",
    "df_stocks_volume.head(10)"
   ]
  },
  {
   "cell_type": "code",
   "execution_count": 87,
   "metadata": {},
   "outputs": [],
   "source": [
    "X1 = df_stocks_volume[['Log-Volume-Change:(t-1)', 'Log-Volume-Change:(t-2)']]\n",
    "y1 = df_stocks_volume[['Volume-Log-Change']]"
   ]
  },
  {
   "cell_type": "code",
   "execution_count": 88,
   "metadata": {},
   "outputs": [
    {
     "name": "stdout",
     "output_type": "stream",
     "text": [
      "Mean Squared Error - Test: 0.0319450717325\n"
     ]
    }
   ],
   "source": [
    "model1 = LinearRegression(fit_intercept=True)\n",
    "\n",
    "# divide the dataset created with 2 variables into training & test samples\n",
    "X1_train, X1_test, y1_train, y1_test = train_test_split(X1, y1, test_size=0.8, random_state=35)\n",
    "\n",
    "# use X1_train, y1_train to train the model and X1_test to predict values\n",
    "model1.fit(X1_train, y1_train)\n",
    "\n",
    "# predict y1_test values from model created \n",
    "y1_test_predicted = model.predict(X1_test)\n",
    "\n",
    "# calculate mean square error for test dataset\n",
    "mse_test_2 = mean_squared_error(y1_test, y1_test_predicted)\n",
    "print ('Mean Squared Error - Test:', mse_test_2)"
   ]
  }
 ],
 "metadata": {
  "kernelspec": {
   "display_name": "Python 3",
   "language": "python",
   "name": "python3"
  },
  "language_info": {
   "codemirror_mode": {
    "name": "ipython",
    "version": 3
   },
   "file_extension": ".py",
   "mimetype": "text/x-python",
   "name": "python",
   "nbconvert_exporter": "python",
   "pygments_lexer": "ipython3",
   "version": "3.6.2"
  }
 },
 "nbformat": 4,
 "nbformat_minor": 2
}
